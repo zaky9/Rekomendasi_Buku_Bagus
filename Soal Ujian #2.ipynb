{
 "cells": [
  {
   "cell_type": "code",
   "execution_count": 22,
   "metadata": {
    "ExecuteTime": {
     "end_time": "2019-07-15T15:57:17.505782Z",
     "start_time": "2019-07-15T15:57:14.974151Z"
    }
   },
   "outputs": [],
   "source": [
    "import numpy as np\n",
    "import pandas as pd\n",
    "\n",
    "books = pd.read_csv(r'C:\\Users\\User\\Desktop\\tugas no3\\Ujian_MachineLearning_JCDS04-master\\Dataset_2\\books.csv')\n",
    "ratings = pd.read_csv(r'C:\\Users\\User\\Desktop\\tugas no3\\Ujian_MachineLearning_JCDS04-master\\Dataset_2\\ratings.csv')\n",
    "# books.columns.values()\n",
    "# books\n",
    "# books.corr()\n",
    "books.loc[books['original_title'].isnull(), 'original_title'] = books.loc[books['original_title'].isnull(), 'title'].values"
   ]
  },
  {
   "cell_type": "code",
   "execution_count": 28,
   "metadata": {
    "ExecuteTime": {
     "end_time": "2019-07-15T15:58:57.433056Z",
     "start_time": "2019-07-15T15:58:56.434807Z"
    }
   },
   "outputs": [],
   "source": [
    "def mergeCol(i):\n",
    "    return str(i['authors'])+' '+str(i['original_title'])+' '+str(i['title'])\n",
    "books['Features']=books.apply(mergeCol,axis='columns')\n",
    "\n",
    "# count vectorizer\n",
    "from sklearn.feature_extraction.text import CountVectorizer\n",
    "model = CountVectorizer(\n",
    "#     ngram_range=(1,1), \n",
    "    tokenizer = lambda i: i.split(' '),\n",
    "#     analyzer = 'word' \n",
    "    )\n",
    "\n",
    "matrixFeature = model.fit_transform(books['Features'])\n",
    "features = model.get_feature_names()\n",
    "totalFeatures=len(features)\n",
    "print(totalFeatures)"
   ]
  },
  {
   "cell_type": "code",
   "execution_count": 24,
   "metadata": {
    "ExecuteTime": {
     "end_time": "2019-07-15T15:57:22.229988Z",
     "start_time": "2019-07-15T15:57:20.747604Z"
    }
   },
   "outputs": [],
   "source": [
    "# cosine similarity\n",
    "from sklearn.metrics.pairwise import cosine_similarity\n",
    "score=cosine_similarity(matrixFeature)\n",
    "# print(score)\n",
    "\n",
    "# Find the index value of ratedbook (ranked 1-5) \n",
    "ratedbook1=books[books['original_title']=='The Hunger Games']['book_id'].tolist()[0]-1 \n",
    "ratedbook2=books[books['original_title']=='Catching Fire']['book_id'].tolist()[0]-1 \n",
    "ratedbook3=books[books['original_title']=='Mockingjay']['book_id'].tolist()[0]-1 \n",
    "ratedbook4=books[books['original_title']=='The Hobbit or There and Back Again']['book_id'].tolist()[0]-1 \n",
    "ratedbook=[ratedbook1,ratedbook2,ratedbook3,ratedbook4]\n",
    "# print(ratedbook)"
   ]
  },
  {
   "cell_type": "code",
   "execution_count": 25,
   "metadata": {
    "ExecuteTime": {
     "end_time": "2019-07-15T15:57:23.449283Z",
     "start_time": "2019-07-15T15:57:23.383268Z"
    }
   },
   "outputs": [],
   "source": [
    "listScore1=list(enumerate(score[ratedbook1]))\n",
    "listScore2=list(enumerate(score[ratedbook2]))\n",
    "listScore3=list(enumerate(score[ratedbook3]))\n",
    "listScore4=list(enumerate(score[ratedbook4]))\n",
    "\n",
    "listScore = []\n",
    "for i in listScore1:\n",
    "    listScore.append((i[0],0.25*(listScore1[i[0]][1]+listScore2[i[0]][1]+listScore3[i[0]][1]+listScore4[i[0]][1])))\n",
    "\n",
    "sortListScore=sorted(\n",
    "    listScore,\n",
    "    key=lambda j:j[1],\n",
    "    reverse=True)\n",
    "# print(sortListScore[:5][0])"
   ]
  },
  {
   "cell_type": "code",
   "execution_count": 26,
   "metadata": {
    "ExecuteTime": {
     "end_time": "2019-07-15T15:57:24.591570Z",
     "start_time": "2019-07-15T15:57:24.567565Z"
    }
   },
   "outputs": [
    {
     "name": "stdout",
     "output_type": "stream",
     "text": [
      "- The Hunger Games Tribute Guide\n",
      "- The World of the Hunger Games (Hunger Games Trilogy)\n",
      "- The Hunger Games Box Set\n",
      "- The Hunger Pains: A Parody\n",
      "- The Hobbit and The Lord of the Rings\n"
     ]
    }
   ],
   "source": [
    "# Recomendation \n",
    "similarBooks=[]\n",
    "for i in sortListScore:\n",
    "    if i[1]>0:\n",
    "        similarBooks.append(i)\n",
    "\n",
    "\n",
    "for i in range(0,5):\n",
    "    if similarBooks[i][0] not in ratedbook:\n",
    "        print('-',books['original_title'].iloc[similarBooks[i][0]])\n",
    "    else:\n",
    "        i+=5\n",
    "        print('-',books['original_title'].iloc[similarBooks[i][0]])\n",
    "        "
   ]
  },
  {
   "cell_type": "code",
   "execution_count": 27,
   "metadata": {
    "ExecuteTime": {
     "end_time": "2019-07-15T15:57:25.746857Z",
     "start_time": "2019-07-15T15:57:25.699846Z"
    }
   },
   "outputs": [
    {
     "name": "stdout",
     "output_type": "stream",
     "text": [
      "1.  Buku bagus untuk Andi:\n",
      "- original_title    Queen of Babble\n",
      "Name: 2068, dtype: object\n",
      "- original_title    Against All Enemies\n",
      "Name: 9639, dtype: object\n",
      "- original_title    The Structure of Scientific Revolutions\n",
      "Name: 5419, dtype: object\n",
      "- original_title     Burned (Burned, #1)\n",
      "Name: 2071, dtype: object\n",
      "- original_title    Taking Chances (Taking Chances, #1)\n",
      "Name: 3425, dtype: object\n"
     ]
    }
   ],
   "source": [
    "# randomize the recomendation based on similarBooks \n",
    "import random\n",
    "rekomendation = random.choices(similarBooks, k=5)\n",
    "# rekomendation\n",
    "print('1.  Buku bagus untuk Andi:')\n",
    "for i in rekomendation[:10]:\n",
    "    print('-',books.iloc[i[0]][['original_title']])"
   ]
  },
  {
   "cell_type": "code",
   "execution_count": null,
   "metadata": {},
   "outputs": [],
   "source": []
  }
 ],
 "metadata": {
  "hide_input": false,
  "kernelspec": {
   "display_name": "Python 3",
   "language": "python",
   "name": "python3"
  },
  "language_info": {
   "codemirror_mode": {
    "name": "ipython",
    "version": 3
   },
   "file_extension": ".py",
   "mimetype": "text/x-python",
   "name": "python",
   "nbconvert_exporter": "python",
   "pygments_lexer": "ipython3",
   "version": "3.7.3"
  },
  "toc": {
   "base_numbering": 1,
   "nav_menu": {},
   "number_sections": true,
   "sideBar": true,
   "skip_h1_title": false,
   "title_cell": "Table of Contents",
   "title_sidebar": "Contents",
   "toc_cell": false,
   "toc_position": {},
   "toc_section_display": true,
   "toc_window_display": false
  },
  "varInspector": {
   "cols": {
    "lenName": 16,
    "lenType": 16,
    "lenVar": 40
   },
   "kernels_config": {
    "python": {
     "delete_cmd_postfix": "",
     "delete_cmd_prefix": "del ",
     "library": "var_list.py",
     "varRefreshCmd": "print(var_dic_list())"
    },
    "r": {
     "delete_cmd_postfix": ") ",
     "delete_cmd_prefix": "rm(",
     "library": "var_list.r",
     "varRefreshCmd": "cat(var_dic_list()) "
    }
   },
   "types_to_exclude": [
    "module",
    "function",
    "builtin_function_or_method",
    "instance",
    "_Feature"
   ],
   "window_display": false
  }
 },
 "nbformat": 4,
 "nbformat_minor": 2
}
